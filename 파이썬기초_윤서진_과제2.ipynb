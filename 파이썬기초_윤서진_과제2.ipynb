{
  "nbformat": 4,
  "nbformat_minor": 0,
  "metadata": {
    "colab": {
      "name": "파이썬기초_윤서진_과제2.ipynb",
      "provenance": [],
      "collapsed_sections": []
    },
    "kernelspec": {
      "name": "python3",
      "display_name": "Python 3"
    }
  },
  "cells": [
    {
      "cell_type": "code",
      "metadata": {
        "id": "rH86fsyqeIWN",
        "colab_type": "code",
        "colab": {
          "base_uri": "https://localhost:8080/",
          "height": 283
        },
        "outputId": "a790acd7-6bb9-449d-98ec-2e1d70c4e953"
      },
      "source": [
        "#problem1\n",
        "Line = \"leArniNg Builtin functions\"\n",
        "a = Line.capitalize()\t#Converts the first character to upper case\n",
        "print(a)\n",
        "a = Line.casefold()\t#Converts string into lower case\n",
        "print(a)\n",
        "#center()\tReturns a centered string\n",
        "a = Line.count('n')\t#Returns the number of times a specified value occurs in a string\n",
        "print(a)\n",
        "a = Line.encode()\t#Returns an encoded version of the string\n",
        "print(a)\n",
        "a = Line.endswith('s')\t#Returns true if the string ends with the specified value\n",
        "print(a)\n",
        "a = Line.expandtabs()\t#Sets the tab size of the string\n",
        "print(a)\n",
        "a = Line.find('un')\t#Searches the string for a specified value and returns the position of where it was found\n",
        "print(a)\n",
        "#format()\tFormats specified values in a string\n",
        "#format_map()\tFormats specified values in a string\n",
        "#index()\tSearches the string for a specified value and returns the position of where it was found\n",
        "#isalnum()\tReturns True if all characters in the string are alphanumeric\n",
        "a = Line.isalpha()\t#Returns True if all characters in the string are in the alphabet\n",
        "print(a)\n",
        "#isdecimal()\tReturns True if all characters in the string are decimals\n",
        "#isdigit()\tReturns True if all characters in the string are digits\n",
        "#isidentifier()\tReturns True if the string is an identifier\n",
        "#islower()\tReturns True if all characters in the string are lower case\n",
        "#isnumeric()\tReturns True if all characters in the string are numeric\n",
        "#isprintable()\tReturns True if all characters in the string are printable\n",
        "#isspace()\tReturns True if all characters in the string are whitespaces\n",
        "#istitle()\tReturns True if the string follows the rules of a title\n",
        "#isupper()\tReturns True if all characters in the string are upper case\n",
        "#join()\tJoins the elements of an iterable to the end of the string\n",
        "#a = Line.ljust()\t#Returns a left justified version of the string\n",
        "#print(a)\n",
        "a = Line.lower()\t#Converts a string into lower case\n",
        "print(a)\n",
        "#lstrip()\tReturns a left trim version of the string\n",
        "#maketrans()\tReturns a translation table to be used in translations\n",
        "a = Line.partition(\"functions\")\t#Returns a tuple where the string is parted into three parts\n",
        "print(a)\n",
        "#replace()\tReturns a string where a specified value is replaced with a specified value\n",
        "#rfind()\tSearches the string for a specified value and returns the last position of where it was found\n",
        "#rindex()\tSearches the string for a specified value and returns the last position of where it was found\n",
        "#rjust()\tReturns a right justified version of the string\n",
        "#rpartition()\tReturns a tuple where the string is parted into three parts\n",
        "#rsplit()\tSplits the string at the specified separator, and returns a list\n",
        "#rstrip()\tReturns a right trim version of the string\n",
        "#split()\tSplits the string at the specified separator, and returns a list\n",
        "a = Line.splitlines()\t#Splits the string at line breaks and returns a list\n",
        "print(a)\n",
        "a = Line.startswith('l')\t#Returns true if the string starts with the specified value\n",
        "print(a)\n",
        "#strip()\tReturns a trimmed version of the string\n",
        "a = Line.swapcase()\t#Swaps cases, lower case becomes upper case and vice versa\n",
        "print(a)\n",
        "a = Line.title()\t#Converts the first character of each word to upper case\n",
        "print(a)\n",
        "#translate()\tReturns a translated string\n",
        "a = Line.upper()\t#Converts a string into upper case\n",
        "print(a)\n",
        "#zfill() Fills the string with a specified number of 0 values at the beginning"
      ],
      "execution_count": 15,
      "outputs": [
        {
          "output_type": "stream",
          "text": [
            "Learning builtin functions\n",
            "learning builtin functions\n",
            "4\n",
            "b'leArniNg Builtin functions'\n",
            "True\n",
            "leArniNg Builtin functions\n",
            "18\n",
            "False\n",
            "learning builtin functions\n",
            "('leArniNg Builtin ', 'functions', '')\n",
            "['leArniNg Builtin functions']\n",
            "True\n",
            "LEaRNInG bUILTIN FUNCTIONS\n",
            "Learning Builtin Functions\n",
            "LEARNING BUILTIN FUNCTIONS\n"
          ],
          "name": "stdout"
        }
      ]
    },
    {
      "cell_type": "code",
      "metadata": {
        "id": "tfXuqqG4eOIY",
        "colab_type": "code",
        "colab": {
          "base_uri": "https://localhost:8080/",
          "height": 230
        },
        "outputId": "d7aec29d-2893-41ab-c492-fc788ebb06d9"
      },
      "source": [
        "#Your Assginemnt #2 - Apply what you have learnt from String section, do repeat the many operations you played in the section. \n",
        "#e.g., Stride, Slicing... functions\n",
        "#problem2\n",
        "Sentence = \"What a pity.\"\n",
        "Juice = ('apple', 'Tropicana', 'Sparkling', (2, 9), 3)\n",
        "Num_Set = (1194, 4008, 20, 40)\n",
        "\n",
        "print(Sentence[0:11:2])\n",
        "print(Sentence[3:])\n",
        "print(Sentence[1:9])\n",
        "print(Sentence[-1])\n",
        "print(Sentence[-1:-6:-1])\n",
        "print(Sentence[-6:-1])\n",
        "print(Sentence[-6:-1]+Sentence[-1:-6:-1])\n",
        "\n",
        "print(\"What a\\n pity.\")\n",
        "\n",
        "print(Juice*3)\n",
        "print(Juice[3][1])\n",
        "\n",
        "print(sorted(Num_Set))"
      ],
      "execution_count": 35,
      "outputs": [
        {
          "output_type": "stream",
          "text": [
            "Wa  iy\n",
            "t a pity.\n",
            "hat a pi\n",
            ".\n",
            ".ytip\n",
            " pity\n",
            " pity.ytip\n",
            "What a\n",
            " pity.\n",
            "('apple', 'Tropicana', 'Sparkling', (2, 9), 3, 'apple', 'Tropicana', 'Sparkling', (2, 9), 3, 'apple', 'Tropicana', 'Sparkling', (2, 9), 3)\n",
            "9\n",
            "[20, 40, 1194, 4008]\n"
          ],
          "name": "stdout"
        }
      ]
    },
    {
      "cell_type": "code",
      "metadata": {
        "id": "BsMgPBRiehBS",
        "colab_type": "code",
        "colab": {
          "base_uri": "https://localhost:8080/",
          "height": 141
        },
        "outputId": "bb623d03-c729-4e14-82a0-0f0e141fdc62"
      },
      "source": [
        "#Your Assignment #3 \n",
        "#Declare a Genre tuple as follows:\n",
        "\"0. Pop, 1. Rock, 2. Soul, 3. Hard Rock, 4. Soft rock, 5. R&B, 6. Progressive rock, 7. Disco\"\n",
        "#Play around to access each items to answer the quires such as \"What is the number of R&B\"\n",
        "# tuple_Genre.find(\"R&B\") --> of course I know that you haven't learnt how to make a function in Python, play your own trick to find \n",
        "# where such letter or strings will be displayed. \n",
        "Genre_Tuple = (\"0. Pop, 1. Rock, 2. Soul, 3. Hard Rock, 4. Soft rock, 5. R&B, 6. Progressive rock, 7. Disco\")\n",
        "\n",
        "def Find(a,b):\n",
        "   c = a.find(b)\n",
        "   if c == -1:\n",
        "     return \"no such string\"\n",
        "   else:\n",
        "     return a[c-3]\n",
        "\n",
        "print(Find(Genre_Tuple,\"R&B\"))\n",
        "print(Find(Genre_Tuple,\"Rock\"))\n",
        "print(Find(Genre_Tuple,\"Z\"))\n",
        "\n",
        "def Perfect_Find(a,b):\n",
        "  num = a.count(b)\n",
        "  N = []\n",
        "  d = 0\n",
        "  for i in range(num):\n",
        "    d = a.find(b, d)\n",
        "    N.append(d)\n",
        "    d += 1\n",
        "  return N\n",
        "\n",
        "print(Perfect_Find(Genre_Tuple,\"R\"))\n",
        "\n",
        "def Detect_Pos(a):\n",
        "  M = []\n",
        "  i = 0\n",
        "  p = \"0\"\n",
        "  t = \"0. \"\n",
        "  while a.find(t) != -1:\n",
        "    M.append(a.find(t))\n",
        "    i += 1\n",
        "    p = str(i)\n",
        "    t = p+\". \"\n",
        "  return M\n",
        "\n",
        "print(Detect_Pos(Genre_Tuple))\n",
        "\n",
        "def Lav_Pos(a,b):\n",
        "  if not a: \n",
        "    return \"no such item\"\n",
        "  else:\n",
        "    for i in range(len(a)):\n",
        "      b.append(a[i])\n",
        "      b.sort()\n",
        "      a[i] = b.index(a[i])-1\n",
        "      b.remove(b[a[i]])\n",
        "  return a\n",
        "\n",
        "print(Lav_Pos([11, 34, 57], [0, 8, 17, 26, 40, 54, 62, 83]))\n",
        "print(Lav_Pos(Perfect_Find(Genre_Tuple,\"r\"),Detect_Pos(Genre_Tuple)))\n",
        "\n",
        "#def Find2(a,b): \n",
        "  #return Lav_Pos(Perfect_Find(a,b),Detect_Pos(a))\n",
        "\n",
        "#print Find2(Genre_Tuple,\"R\")->왜 버그가 생기는지 모르겠습니다."
      ],
      "execution_count": 94,
      "outputs": [
        {
          "output_type": "stream",
          "text": [
            "5\n",
            "1\n",
            "no such string\n",
            "[11, 34, 57]\n",
            "[0, 8, 17, 26, 40, 54, 62, 83]\n",
            "[1, 3, 5]\n",
            "[3, 4, 6, 6, 6]\n"
          ],
          "name": "stdout"
        }
      ]
    },
    {
      "cell_type": "code",
      "metadata": {
        "id": "bTCsYKdvREJW",
        "colab_type": "code",
        "colab": {}
      },
      "source": [
        ""
      ],
      "execution_count": 0,
      "outputs": []
    }
  ]
}